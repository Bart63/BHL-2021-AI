{
 "cells": [
  {
   "cell_type": "markdown",
   "id": "5dbd9088",
   "metadata": {},
   "source": [
    "# Dlaczego wasz model jest lepszy od innych? \n"
   ]
  },
  {
   "cell_type": "markdown",
   "id": "a656f34e",
   "metadata": {},
   "source": [
    "Otrzymaliśmy 92% trafności na danych testowych. Uważamy, że model jest wystarczająco dobry, żeby móc go zaimplementować"
   ]
  },
  {
   "cell_type": "markdown",
   "id": "5676d94f",
   "metadata": {},
   "source": [
    "# Jak to sprawdziliście? \n"
   ]
  },
  {
   "cell_type": "markdown",
   "id": "9d5187e7",
   "metadata": {},
   "source": [
    "Model przetrenowaliśmy na oczyszczonych danych (9826 pomiarów). Zawsze otrzymaliśmy skuteczność około 91%"
   ]
  },
  {
   "cell_type": "markdown",
   "id": "53b8e7e5",
   "metadata": {},
   "source": [
    "# Dlaczego podjęliście takie a nie inne decyzje?\n"
   ]
  },
  {
   "cell_type": "markdown",
   "id": "ed6376ef",
   "metadata": {},
   "source": [
    "Chcieliśmy uprościć problem jak najbardziej. Dlatego podczas oczyszczania danych usunęliśmy wszystkie wiersze, które zawierały NaNy - błędne pomiary nie powinny być interpretowane przez model. Następnie wybraliśmy tylko wartości określone w kolumnach jako średnia (mean) lub odchylenie standardowe (std) - czyli najważniejsze dla nas wartości. Dzięki temu zmnieszyliśmy wymiarowość danych do 66 cech. Żeby sieć nie uczyła się też na danych, które zostały błędnie odczytane, obliczyliśmy dla każdej osoby (subject) w ramach każdej aktywności, wartości średnie dla wspomnianych wcześniej cech. Dało to nam 160 pomiarów treningowych. To wystarczyło sieci neuronowej na bardzo efektywną naukę.\n",
    "\n",
    "Użyliśmy funkcji aktywacji softmax na końcu ze względu na jej charakter. Zwraca nam ona listę prawdopodobieństw, która sumuje się do 1. Można dzięki temu interpretować, które aktywności są najbardziej podobne do danego pomiaru, a które mniej"
   ]
  }
 ],
 "metadata": {
  "kernelspec": {
   "display_name": "Python 3",
   "language": "python",
   "name": "python3"
  },
  "language_info": {
   "codemirror_mode": {
    "name": "ipython",
    "version": 3
   },
   "file_extension": ".py",
   "mimetype": "text/x-python",
   "name": "python",
   "nbconvert_exporter": "python",
   "pygments_lexer": "ipython3",
   "version": "3.8.8"
  }
 },
 "nbformat": 4,
 "nbformat_minor": 5
}
