{
 "cells": [
  {
   "cell_type": "markdown",
   "id": "5dbd9088",
   "metadata": {},
   "source": [
    "# Dlaczego wasz model jest lepszy od innych? \n"
   ]
  },
  {
   "cell_type": "markdown",
   "id": "5676d94f",
   "metadata": {},
   "source": [
    "# Jak to sprawdziliście? \n"
   ]
  },
  {
   "cell_type": "markdown",
   "id": "53b8e7e5",
   "metadata": {},
   "source": [
    "# Dlaczego podjęliście takie a nie inne decyzje?\n"
   ]
  }
 ],
 "metadata": {
  "kernelspec": {
   "display_name": "Python 3",
   "language": "python",
   "name": "python3"
  },
  "language_info": {
   "codemirror_mode": {
    "name": "ipython",
    "version": 3
   },
   "file_extension": ".py",
   "mimetype": "text/x-python",
   "name": "python",
   "nbconvert_exporter": "python",
   "pygments_lexer": "ipython3",
   "version": "3.8.8"
  }
 },
 "nbformat": 4,
 "nbformat_minor": 5
}
