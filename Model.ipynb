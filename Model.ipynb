{
 "cells": [
  {
   "cell_type": "code",
   "execution_count": 3,
   "id": "ef20a72d",
   "metadata": {},
   "outputs": [],
   "source": [
    "import tensorflow as tf\n",
    "from tensorflow import keras\n",
    "from sklearn.utils import shuffle"
   ]
  },
  {
   "cell_type": "code",
   "execution_count": null,
   "id": "51af1e2e",
   "metadata": {},
   "outputs": [],
   "source": [
    "# build model:  -> 5 -> 6\n",
    "model = keras.Sequential([\n",
    "    keras.layers.Dense(5, input_dim=4232, activation=\"relu\"),\n",
    "    keras.layers.Dense(6, activation=\"softmax\")\n",
    "])"
   ]
  },
  {
   "cell_type": "code",
   "execution_count": null,
   "id": "65bb98ca",
   "metadata": {},
   "outputs": [],
   "source": [
    "# compile\n",
    "optimizer = keras.optimizers.SGD(learning_rate=0.1)\n",
    "model.compile(optimizer=optimizer, loss=\"MSE\", metrics=['accuracy'])"
   ]
  },
  {
   "cell_type": "code",
   "execution_count": null,
   "id": "890192a3",
   "metadata": {},
   "outputs": [],
   "source": [
    "# train\n",
    "model.fit(x_train, y_train, epochs=10)"
   ]
  },
  {
   "cell_type": "code",
   "execution_count": null,
   "id": "f6fbfedd",
   "metadata": {},
   "outputs": [],
   "source": [
    "# evaluation\n",
    "print(\"\\n model evaluation:\")\n",
    "model.evaluate(x_test, y_test, verbose=1)"
   ]
  },
  {
   "cell_type": "code",
   "execution_count": null,
   "id": "07ee97ca",
   "metadata": {},
   "outputs": [],
   "source": [
    "# make prediction\n",
    "data = np.array([[0.1, 0.1], [0.1, 0.4]])\n",
    "predictions = model.predict(data)\n",
    "print(\"\\nPredictions:\")\n",
    "for d,p in zip(data, predictions):\n",
    "    print(\"{} + {} = {}\".format(d[0], d[1], p[0]))"
   ]
  }
 ],
 "metadata": {
  "kernelspec": {
   "display_name": "Python 3",
   "language": "python",
   "name": "python3"
  },
  "language_info": {
   "codemirror_mode": {
    "name": "ipython",
    "version": 3
   },
   "file_extension": ".py",
   "mimetype": "text/x-python",
   "name": "python",
   "nbconvert_exporter": "python",
   "pygments_lexer": "ipython3",
   "version": "3.8.8"
  }
 },
 "nbformat": 4,
 "nbformat_minor": 5
}
