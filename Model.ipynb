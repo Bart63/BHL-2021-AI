{
 "cells": [
  {
   "cell_type": "code",
   "execution_count": 4,
   "id": "f5873247",
   "metadata": {},
   "outputs": [],
   "source": [
    "import tensorflow as tf\n",
    "from tensorflow import keras\n",
    "from sklearn.utils import shuffle\n",
    "from sklearn.model_selection import train_test_split"
   ]
  },
  {
   "cell_type": "code",
   "execution_count": 6,
   "id": "4cadeabc",
   "metadata": {},
   "outputs": [],
   "source": [
    "_labels_ = ['STANDING', 'WALKING_UPSTAIRS', 'LAYING', 'WALKING', 'SITTING', 'WALKING_DOWNSTAIRS']"
   ]
  },
  {
   "cell_type": "code",
   "execution_count": 7,
   "id": "1ad30c47",
   "metadata": {},
   "outputs": [],
   "source": [
    "def label_to_vector(label):\n",
    "    return [int(label==l) for l in _labels_]"
   ]
  },
  {
   "cell_type": "code",
   "execution_count": 8,
   "id": "89366bab",
   "metadata": {},
   "outputs": [],
   "source": [
    "def vector_to_label(vec):\n",
    "    return _labels_[vec.index(1)]"
   ]
  },
  {
   "cell_type": "code",
   "execution_count": null,
   "id": "10330c60",
   "metadata": {},
   "outputs": [],
   "source": [
    "def get_y(labels):\n",
    "    return [label_to_vector(l) for l in labels]"
   ]
  },
  {
   "cell_type": "code",
   "execution_count": null,
   "id": "37460ced",
   "metadata": {},
   "outputs": [],
   "source": [
    "# build model:  -> 5 -> 6\n",
    "model = keras.Sequential([\n",
    "    keras.layers.Dense(5, input_dim=4232, activation=\"relu\"),\n",
    "    keras.layers.Dense(6, activation=\"softmax\")\n",
    "])"
   ]
  },
  {
   "cell_type": "code",
   "execution_count": null,
   "id": "b49b45e6",
   "metadata": {},
   "outputs": [],
   "source": [
    "# compile\n",
    "optimizer = keras.optimizers.SGD(learning_rate=0.1)\n",
    "model.compile(optimizer=optimizer, loss=\"MSE\", metrics=['accuracy'])"
   ]
  },
  {
   "cell_type": "code",
   "execution_count": null,
   "id": "7b7d2720",
   "metadata": {},
   "outputs": [],
   "source": [
    "# train\n",
    "model.fit(x_train, y_train, epochs=10)"
   ]
  },
  {
   "cell_type": "code",
   "execution_count": null,
   "id": "621053aa",
   "metadata": {},
   "outputs": [],
   "source": [
    "# evaluation\n",
    "print(\"\\n model evaluation:\")\n",
    "model.evaluate(x_test, y_test, verbose=1)"
   ]
  },
  {
   "cell_type": "code",
   "execution_count": 9,
   "id": "c8ef3794",
   "metadata": {},
   "outputs": [],
   "source": [
    "# make prediction\n",
    "#predictions = model.predict(data)"
   ]
  }
 ],
 "metadata": {
  "kernelspec": {
   "display_name": "Python 3",
   "language": "python",
   "name": "python3"
  },
  "language_info": {
   "codemirror_mode": {
    "name": "ipython",
    "version": 3
   },
   "file_extension": ".py",
   "mimetype": "text/x-python",
   "name": "python",
   "nbconvert_exporter": "python",
   "pygments_lexer": "ipython3",
   "version": "3.8.8"
  }
 },
 "nbformat": 4,
 "nbformat_minor": 5
}
