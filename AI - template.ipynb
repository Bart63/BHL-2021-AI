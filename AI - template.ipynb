{
 "cells": [
  {
   "cell_type": "markdown",
   "metadata": {},
   "source": [
    "# Sprawdzanie dokładności modelu\n",
    "Plik test_data.csv jest dostępny tylko dla jury. Zawiera dane testowe - jednakowe dla wszystkich drużyn. Jest w takim samym formacie co zbiór, który otrzymaliście wraz z zadaniem, tylko już z czystymi danymi."
   ]
  },
  {
   "cell_type": "code",
   "execution_count": 2,
   "metadata": {},
   "outputs": [],
   "source": [
    "import pandas as pd\n",
    "import numpy as np\n",
    "import tensorflow as tf"
   ]
  },
  {
   "cell_type": "code",
   "execution_count": 3,
   "metadata": {},
   "outputs": [],
   "source": [
    "test_data = pd.read_csv(\"test_data.csv\")"
   ]
  },
  {
   "cell_type": "markdown",
   "metadata": {},
   "source": [
    "### Miejsce na twój kod:"
   ]
  },
  {
   "cell_type": "markdown",
   "metadata": {},
   "source": [
    "### Definicja modelu, funkcji pomocniczych oraz stałych"
   ]
  },
  {
   "cell_type": "code",
   "execution_count": 4,
   "metadata": {},
   "outputs": [],
   "source": [
    "# build model: 66 -> 150 -> 80 -> 6\n",
    "def create_model():\n",
    "    model = tf.keras.models.Sequential([\n",
    "        tf.keras.layers.Dense(150, input_dim=66, activation=\"relu\"),\n",
    "        tf.keras.layers.Dense(80, activation=\"relu\"),\n",
    "        tf.keras.layers.Dense(6, activation=\"softmax\")\n",
    "    ])\n",
    "    model.compile(optimizer=\"adam\", loss=\"MSE\", metrics=['accuracy'])\n",
    "    return model\n",
    "\n",
    "_labels_ = ['STANDING', 'WALKING_UPSTAIRS', 'LAYING', 'WALKING', 'SITTING', 'WALKING_DOWNSTAIRS']\n",
    "checkpoint_path = \"model/cp.ckpt\"\n",
    "\n",
    "def index_to_label(index):\n",
    "    return _labels_[index]\n",
    "\n",
    "def list_to_labels(predictions):\n",
    "    return [index_to_label(i) for i in predictions]"
   ]
  },
  {
   "cell_type": "markdown",
   "id": "ec3a14de",
   "metadata": {},
   "source": [
    "### Wybieramy tylko te kolumny które uwzględniają średnią i odchylenie standardowe"
   ]
  },
  {
   "cell_type": "code",
   "execution_count": 5,
   "id": "61098a65",
   "metadata": {},
   "outputs": [],
   "source": [
    "mean_cols = [col for col in test_data.columns if 'mean' in col or 'Mean' in col]\n",
    "std_cols = [col for col in test_data.columns if 'std' in col or 'Std' in col]"
   ]
  },
  {
   "cell_type": "code",
   "execution_count": 6,
   "id": "3b3479f7",
   "metadata": {},
   "outputs": [],
   "source": [
    "df_mean = test_data[mean_cols]"
   ]
  },
  {
   "cell_type": "code",
   "execution_count": 7,
   "id": "4cf43ad1",
   "metadata": {},
   "outputs": [],
   "source": [
    "df_std = test_data[std_cols]"
   ]
  },
  {
   "cell_type": "code",
   "execution_count": 8,
   "id": "d2ea2b99",
   "metadata": {},
   "outputs": [],
   "source": [
    "df_new = pd.concat([df_std, df_mean], axis = 1)"
   ]
  },
  {
   "cell_type": "markdown",
   "id": "98c3a9c9",
   "metadata": {},
   "source": [
    "### Usuwamy kolumny zawierające kąt i energię i średnią częstotliwości"
   ]
  },
  {
   "cell_type": "code",
   "execution_count": 9,
   "id": "d0cf019f",
   "metadata": {},
   "outputs": [
    {
     "data": {
      "text/plain": [
       "['angle(X,gravityMean)',\n",
       " 'angle(Y,gravityMean)',\n",
       " 'angle(Z,gravityMean)',\n",
       " 'angle(tBodyAccJerkMean),gravityMean)',\n",
       " 'angle(tBodyAccMean,gravity)',\n",
       " 'angle(tBodyGyroJerkMean,gravityMean)',\n",
       " 'angle(tBodyGyroMean,gravityMean)',\n",
       " 'energy-mean()',\n",
       " 'fBodyAcc-meanFreq()-X',\n",
       " 'fBodyAcc-meanFreq()-Y',\n",
       " 'fBodyAcc-meanFreq()-Z',\n",
       " 'fBodyAccJerk-meanFreq()-X',\n",
       " 'fBodyAccJerk-meanFreq()-Y',\n",
       " 'fBodyAccJerk-meanFreq()-Z',\n",
       " 'fBodyAccMag-meanFreq()',\n",
       " 'fBodyBodyAccJerkMag-meanFreq()',\n",
       " 'fBodyBodyGyroJerkMag-meanFreq()',\n",
       " 'fBodyBodyGyroMag-meanFreq()',\n",
       " 'fBodyGyro-meanFreq()-X',\n",
       " 'fBodyGyro-meanFreq()-Y',\n",
       " 'fBodyGyro-meanFreq()-Z']"
      ]
     },
     "execution_count": 9,
     "metadata": {},
     "output_type": "execute_result"
    }
   ],
   "source": [
    "angle_cols = [col for col in df_new.columns if 'angle' in col or 'Angle' in col]\n",
    "energy_cols = [col for col in df_new.columns if 'energy' in col or 'Energy' in col]\n",
    "meanFreq_cols = [col for col in df_new.columns if 'meanFreq' in col]\n",
    "drop_cols = angle_cols + energy_cols + meanFreq_cols\n",
    "drop_cols"
   ]
  },
  {
   "cell_type": "code",
   "execution_count": 10,
   "id": "446944a3",
   "metadata": {},
   "outputs": [],
   "source": [
    "df_new = df_new.drop(drop_cols, axis=1)"
   ]
  },
  {
   "cell_type": "code",
   "execution_count": 11,
   "metadata": {},
   "outputs": [],
   "source": [
    "X = df_new"
   ]
  },
  {
   "cell_type": "markdown",
   "metadata": {},
   "source": [
    "### Tworzymy model i importujemy wagi"
   ]
  },
  {
   "cell_type": "code",
   "execution_count": 12,
   "metadata": {},
   "outputs": [
    {
     "data": {
      "text/plain": [
       "<tensorflow.python.training.tracking.util.CheckpointLoadStatus at 0x230ee985c10>"
      ]
     },
     "execution_count": 12,
     "metadata": {},
     "output_type": "execute_result"
    }
   ],
   "source": [
    "model = create_model()\n",
    "model.load_weights(checkpoint_path)"
   ]
  },
  {
   "cell_type": "markdown",
   "metadata": {},
   "source": [
    "### Generowanie przewidywanej aktywności"
   ]
  },
  {
   "cell_type": "code",
   "execution_count": 13,
   "metadata": {},
   "outputs": [],
   "source": [
    "predicted = list_to_labels(np.argmax(model.predict(X), axis=1))"
   ]
  },
  {
   "cell_type": "markdown",
   "metadata": {},
   "source": [
    "### Sprawdzanie dokładności:\n",
    "Predicted - zmienna przechowująca przewidzianą aktywność. Poniższa linijka powinna zwrócić wartość 0-1."
   ]
  },
  {
   "cell_type": "code",
   "execution_count": 14,
   "metadata": {},
   "outputs": [
    {
     "data": {
      "text/plain": [
       "0.8359191773407901"
      ]
     },
     "execution_count": 14,
     "metadata": {},
     "output_type": "execute_result"
    }
   ],
   "source": [
    "np.mean(predicted == test_data.Activity)"
   ]
  }
 ],
 "metadata": {
  "kernelspec": {
   "display_name": "Python 3",
   "language": "python",
   "name": "python3"
  },
  "language_info": {
   "codemirror_mode": {
    "name": "ipython",
    "version": 3
   },
   "file_extension": ".py",
   "mimetype": "text/x-python",
   "name": "python",
   "nbconvert_exporter": "python",
   "pygments_lexer": "ipython3",
   "version": "3.8.8"
  }
 },
 "nbformat": 4,
 "nbformat_minor": 4
}
